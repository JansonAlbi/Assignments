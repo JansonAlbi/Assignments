{
 "cells": [
  {
   "cell_type": "markdown",
   "id": "6647fd9a-6966-4e24-849e-354e0a2ae0dc",
   "metadata": {
    "tags": []
   },
   "source": [
    "# Data Science Tools and Ecosystem"
   ]
  },
  {
   "cell_type": "markdown",
   "id": "f1c1f5f4-ac64-4d00-b66b-f1812b705df3",
   "metadata": {
    "tags": []
   },
   "source": [
    "In this notebook, Data Science Tools and Ecosystem are summarized."
   ]
  },
  {
   "cell_type": "markdown",
   "id": "e7779fe8-cf26-4e61-9d8a-ca2da22c2b06",
   "metadata": {},
   "source": [
    "<b> Objectives: </b>\n",
    "- List popular languages for Data Science\n",
    "- List Commonly used libraries used for Data Science\n",
    "- List Commonly used Data Science Tools\n",
    "- List Common Arithmetic Expressions \n"
   ]
  },
  {
   "cell_type": "markdown",
   "id": "4a36dbe3-6c52-453e-9bb1-8263c1684c38",
   "metadata": {},
   "source": [
    "Some of the popular languages that Data Scientists use are:\n",
    "1. Python\n",
    "2. R\n",
    "3. Spark"
   ]
  },
  {
   "cell_type": "markdown",
   "id": "f01f6c6a-0255-49dd-8491-919d18eaf4b7",
   "metadata": {},
   "source": [
    "Some of the commonly used libraries used by Data Scientists include:\n",
    "1. Pandas\n",
    "2. ggplot\n",
    "3. Scikit - learn"
   ]
  },
  {
   "cell_type": "markdown",
   "id": "619138e7-852c-4534-bc58-de689905e64f",
   "metadata": {},
   "source": [
    "| Data Science Tools |\n",
    "| ------------------- |\n",
    "| R Studio |\n",
    "| Jupyter Notebooks |\n",
    "| Anaconda |"
   ]
  },
  {
   "cell_type": "markdown",
   "id": "0c626c81-9dc6-4eaa-8def-5c3d6bd539b0",
   "metadata": {
    "tags": []
   },
   "source": [
    "### Below are a few examples of evaluating arithmetic expressions in Python"
   ]
  },
  {
   "cell_type": "code",
   "execution_count": 3,
   "id": "297804c7-2cd4-4cd4-a611-32fcec58a0e7",
   "metadata": {
    "tags": []
   },
   "outputs": [
    {
     "data": {
      "text/plain": [
       "17"
      ]
     },
     "execution_count": 3,
     "metadata": {},
     "output_type": "execute_result"
    }
   ],
   "source": [
    "# This a simple arithmetic expression to mutiply then add integers\n",
    "(3*4)+5"
   ]
  },
  {
   "cell_type": "code",
   "execution_count": 7,
   "id": "455f58e1-59c3-4695-a302-d6720ddc32cd",
   "metadata": {
    "tags": []
   },
   "outputs": [
    {
     "name": "stdin",
     "output_type": "stream",
     "text": [
      "Enter Minutes =  200\n"
     ]
    },
    {
     "name": "stdout",
     "output_type": "stream",
     "text": [
      "200mins is converted to 3.3333333333333335hrs\n"
     ]
    }
   ],
   "source": [
    "#This will convert 200 minutes to hours by diving by 60\n",
    "minutes = int(input(\"Enter Minutes = \"))\n",
    "hours = minutes/60\n",
    "print(f\"{minutes}mins is converted to {hours}hrs\")"
   ]
  },
  {
   "cell_type": "markdown",
   "id": "bfc1f2ee-b134-482b-a13a-7160380fce2f",
   "metadata": {},
   "source": [
    "## Author \n",
    "Janson Albi Scaria"
   ]
  }
 ],
 "metadata": {
  "kernelspec": {
   "display_name": "Python 3 (ipykernel)",
   "language": "python",
   "name": "python3"
  },
  "language_info": {
   "codemirror_mode": {
    "name": "ipython",
    "version": 3
   },
   "file_extension": ".py",
   "mimetype": "text/x-python",
   "name": "python",
   "nbconvert_exporter": "python",
   "pygments_lexer": "ipython3",
   "version": "3.11.5"
  }
 },
 "nbformat": 4,
 "nbformat_minor": 5
}
